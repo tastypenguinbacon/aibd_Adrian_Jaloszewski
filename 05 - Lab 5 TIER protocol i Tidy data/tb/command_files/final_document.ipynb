{
 "cells": [
  {
   "cell_type": "code",
   "execution_count": 2,
   "metadata": {
    "collapsed": true
   },
   "outputs": [],
   "source": [
    "import pandas as pd"
   ]
  },
  {
   "cell_type": "code",
   "execution_count": 3,
   "outputs": [
    {
     "data": {
      "text/plain": "  iso2  year  new_sp  new_sp_m04  new_sp_m514  new_sp_m014  new_sp_m1524  \\\n0   AD  1989     NaN         NaN          NaN          NaN           NaN   \n1   AD  1990     NaN         NaN          NaN          NaN           NaN   \n2   AD  1991     NaN         NaN          NaN          NaN           NaN   \n3   AD  1992     NaN         NaN          NaN          NaN           NaN   \n4   AD  1993    15.0         NaN          NaN          NaN           NaN   \n\n   new_sp_m2534  new_sp_m3544  new_sp_m4554  ...  new_sp_f04  new_sp_f514  \\\n0           NaN           NaN           NaN  ...         NaN          NaN   \n1           NaN           NaN           NaN  ...         NaN          NaN   \n2           NaN           NaN           NaN  ...         NaN          NaN   \n3           NaN           NaN           NaN  ...         NaN          NaN   \n4           NaN           NaN           NaN  ...         NaN          NaN   \n\n   new_sp_f014  new_sp_f1524  new_sp_f2534  new_sp_f3544  new_sp_f4554  \\\n0          NaN           NaN           NaN           NaN           NaN   \n1          NaN           NaN           NaN           NaN           NaN   \n2          NaN           NaN           NaN           NaN           NaN   \n3          NaN           NaN           NaN           NaN           NaN   \n4          NaN           NaN           NaN           NaN           NaN   \n\n   new_sp_f5564  new_sp_f65  new_sp_fu  \n0           NaN         NaN        NaN  \n1           NaN         NaN        NaN  \n2           NaN         NaN        NaN  \n3           NaN         NaN        NaN  \n4           NaN         NaN        NaN  \n\n[5 rows x 23 columns]",
      "text/html": "<div>\n<style scoped>\n    .dataframe tbody tr th:only-of-type {\n        vertical-align: middle;\n    }\n\n    .dataframe tbody tr th {\n        vertical-align: top;\n    }\n\n    .dataframe thead th {\n        text-align: right;\n    }\n</style>\n<table border=\"1\" class=\"dataframe\">\n  <thead>\n    <tr style=\"text-align: right;\">\n      <th></th>\n      <th>iso2</th>\n      <th>year</th>\n      <th>new_sp</th>\n      <th>new_sp_m04</th>\n      <th>new_sp_m514</th>\n      <th>new_sp_m014</th>\n      <th>new_sp_m1524</th>\n      <th>new_sp_m2534</th>\n      <th>new_sp_m3544</th>\n      <th>new_sp_m4554</th>\n      <th>...</th>\n      <th>new_sp_f04</th>\n      <th>new_sp_f514</th>\n      <th>new_sp_f014</th>\n      <th>new_sp_f1524</th>\n      <th>new_sp_f2534</th>\n      <th>new_sp_f3544</th>\n      <th>new_sp_f4554</th>\n      <th>new_sp_f5564</th>\n      <th>new_sp_f65</th>\n      <th>new_sp_fu</th>\n    </tr>\n  </thead>\n  <tbody>\n    <tr>\n      <th>0</th>\n      <td>AD</td>\n      <td>1989</td>\n      <td>NaN</td>\n      <td>NaN</td>\n      <td>NaN</td>\n      <td>NaN</td>\n      <td>NaN</td>\n      <td>NaN</td>\n      <td>NaN</td>\n      <td>NaN</td>\n      <td>...</td>\n      <td>NaN</td>\n      <td>NaN</td>\n      <td>NaN</td>\n      <td>NaN</td>\n      <td>NaN</td>\n      <td>NaN</td>\n      <td>NaN</td>\n      <td>NaN</td>\n      <td>NaN</td>\n      <td>NaN</td>\n    </tr>\n    <tr>\n      <th>1</th>\n      <td>AD</td>\n      <td>1990</td>\n      <td>NaN</td>\n      <td>NaN</td>\n      <td>NaN</td>\n      <td>NaN</td>\n      <td>NaN</td>\n      <td>NaN</td>\n      <td>NaN</td>\n      <td>NaN</td>\n      <td>...</td>\n      <td>NaN</td>\n      <td>NaN</td>\n      <td>NaN</td>\n      <td>NaN</td>\n      <td>NaN</td>\n      <td>NaN</td>\n      <td>NaN</td>\n      <td>NaN</td>\n      <td>NaN</td>\n      <td>NaN</td>\n    </tr>\n    <tr>\n      <th>2</th>\n      <td>AD</td>\n      <td>1991</td>\n      <td>NaN</td>\n      <td>NaN</td>\n      <td>NaN</td>\n      <td>NaN</td>\n      <td>NaN</td>\n      <td>NaN</td>\n      <td>NaN</td>\n      <td>NaN</td>\n      <td>...</td>\n      <td>NaN</td>\n      <td>NaN</td>\n      <td>NaN</td>\n      <td>NaN</td>\n      <td>NaN</td>\n      <td>NaN</td>\n      <td>NaN</td>\n      <td>NaN</td>\n      <td>NaN</td>\n      <td>NaN</td>\n    </tr>\n    <tr>\n      <th>3</th>\n      <td>AD</td>\n      <td>1992</td>\n      <td>NaN</td>\n      <td>NaN</td>\n      <td>NaN</td>\n      <td>NaN</td>\n      <td>NaN</td>\n      <td>NaN</td>\n      <td>NaN</td>\n      <td>NaN</td>\n      <td>...</td>\n      <td>NaN</td>\n      <td>NaN</td>\n      <td>NaN</td>\n      <td>NaN</td>\n      <td>NaN</td>\n      <td>NaN</td>\n      <td>NaN</td>\n      <td>NaN</td>\n      <td>NaN</td>\n      <td>NaN</td>\n    </tr>\n    <tr>\n      <th>4</th>\n      <td>AD</td>\n      <td>1993</td>\n      <td>15.0</td>\n      <td>NaN</td>\n      <td>NaN</td>\n      <td>NaN</td>\n      <td>NaN</td>\n      <td>NaN</td>\n      <td>NaN</td>\n      <td>NaN</td>\n      <td>...</td>\n      <td>NaN</td>\n      <td>NaN</td>\n      <td>NaN</td>\n      <td>NaN</td>\n      <td>NaN</td>\n      <td>NaN</td>\n      <td>NaN</td>\n      <td>NaN</td>\n      <td>NaN</td>\n      <td>NaN</td>\n    </tr>\n  </tbody>\n</table>\n<p>5 rows × 23 columns</p>\n</div>"
     },
     "execution_count": 3,
     "metadata": {},
     "output_type": "execute_result"
    }
   ],
   "source": [
    "df = pd.read_csv('../original_data/tb.csv')\n",
    "df.head()"
   ],
   "metadata": {
    "collapsed": false
   }
  },
  {
   "cell_type": "code",
   "execution_count": 4,
   "outputs": [
    {
     "data": {
      "text/plain": "     iso2  year   new_sp  new_sp_m04  new_sp_m514  new_sp_m014  new_sp_m1524  \\\n0      AD  1989      NaN         NaN          NaN          NaN           NaN   \n1      AD  1990      NaN         NaN          NaN          NaN           NaN   \n2      AD  1991      NaN         NaN          NaN          NaN           NaN   \n3      AD  1992      NaN         NaN          NaN          NaN           NaN   \n4      AD  1993     15.0         NaN          NaN          NaN           NaN   \n...   ...   ...      ...         ...          ...          ...           ...   \n5764   ZW  2004  14581.0         NaN          NaN        187.0         833.0   \n5765   ZW  2005  13155.0         NaN          NaN        210.0         837.0   \n5766   ZW  2006  12718.0         NaN          NaN        215.0         736.0   \n5767   ZW  2007  10583.0         6.0        132.0        138.0         500.0   \n5768   ZW  2008   9830.0         NaN          NaN        127.0         614.0   \n\n      new_sp_m2534  new_sp_m3544  new_sp_m4554  ...  new_sp_f04  new_sp_f514  \\\n0              NaN           NaN           NaN  ...         NaN          NaN   \n1              NaN           NaN           NaN  ...         NaN          NaN   \n2              NaN           NaN           NaN  ...         NaN          NaN   \n3              NaN           NaN           NaN  ...         NaN          NaN   \n4              NaN           NaN           NaN  ...         NaN          NaN   \n...            ...           ...           ...  ...         ...          ...   \n5764        2908.0        2298.0        1056.0  ...         NaN          NaN   \n5765        2264.0        1855.0         762.0  ...         NaN          NaN   \n5766        2391.0        1939.0         896.0  ...         NaN          NaN   \n5767        3693.0           0.0         716.0  ...         7.0        178.0   \n5768           0.0        3316.0         704.0  ...         NaN          NaN   \n\n      new_sp_f014  new_sp_f1524  new_sp_f2534  new_sp_f3544  new_sp_f4554  \\\n0             NaN           NaN           NaN           NaN           NaN   \n1             NaN           NaN           NaN           NaN           NaN   \n2             NaN           NaN           NaN           NaN           NaN   \n3             NaN           NaN           NaN           NaN           NaN   \n4             NaN           NaN           NaN           NaN           NaN   \n...           ...           ...           ...           ...           ...   \n5764        225.0        1140.0        2858.0        1565.0         622.0   \n5765        269.0        1136.0        2242.0        1255.0         578.0   \n5766        237.0        1020.0        2424.0        1355.0         632.0   \n5767        185.0         739.0        3311.0           0.0         553.0   \n5768        145.0         840.0           0.0        2890.0         467.0   \n\n      new_sp_f5564  new_sp_f65  new_sp_fu  \n0              NaN         NaN        NaN  \n1              NaN         NaN        NaN  \n2              NaN         NaN        NaN  \n3              NaN         NaN        NaN  \n4              NaN         NaN        NaN  \n...            ...         ...        ...  \n5764         214.0       111.0        NaN  \n5765         193.0       603.0        NaN  \n5766         230.0        96.0        NaN  \n5767         213.0        90.0        NaN  \n5768         174.0       105.0        0.0  \n\n[5769 rows x 23 columns]",
      "text/html": "<div>\n<style scoped>\n    .dataframe tbody tr th:only-of-type {\n        vertical-align: middle;\n    }\n\n    .dataframe tbody tr th {\n        vertical-align: top;\n    }\n\n    .dataframe thead th {\n        text-align: right;\n    }\n</style>\n<table border=\"1\" class=\"dataframe\">\n  <thead>\n    <tr style=\"text-align: right;\">\n      <th></th>\n      <th>iso2</th>\n      <th>year</th>\n      <th>new_sp</th>\n      <th>new_sp_m04</th>\n      <th>new_sp_m514</th>\n      <th>new_sp_m014</th>\n      <th>new_sp_m1524</th>\n      <th>new_sp_m2534</th>\n      <th>new_sp_m3544</th>\n      <th>new_sp_m4554</th>\n      <th>...</th>\n      <th>new_sp_f04</th>\n      <th>new_sp_f514</th>\n      <th>new_sp_f014</th>\n      <th>new_sp_f1524</th>\n      <th>new_sp_f2534</th>\n      <th>new_sp_f3544</th>\n      <th>new_sp_f4554</th>\n      <th>new_sp_f5564</th>\n      <th>new_sp_f65</th>\n      <th>new_sp_fu</th>\n    </tr>\n  </thead>\n  <tbody>\n    <tr>\n      <th>0</th>\n      <td>AD</td>\n      <td>1989</td>\n      <td>NaN</td>\n      <td>NaN</td>\n      <td>NaN</td>\n      <td>NaN</td>\n      <td>NaN</td>\n      <td>NaN</td>\n      <td>NaN</td>\n      <td>NaN</td>\n      <td>...</td>\n      <td>NaN</td>\n      <td>NaN</td>\n      <td>NaN</td>\n      <td>NaN</td>\n      <td>NaN</td>\n      <td>NaN</td>\n      <td>NaN</td>\n      <td>NaN</td>\n      <td>NaN</td>\n      <td>NaN</td>\n    </tr>\n    <tr>\n      <th>1</th>\n      <td>AD</td>\n      <td>1990</td>\n      <td>NaN</td>\n      <td>NaN</td>\n      <td>NaN</td>\n      <td>NaN</td>\n      <td>NaN</td>\n      <td>NaN</td>\n      <td>NaN</td>\n      <td>NaN</td>\n      <td>...</td>\n      <td>NaN</td>\n      <td>NaN</td>\n      <td>NaN</td>\n      <td>NaN</td>\n      <td>NaN</td>\n      <td>NaN</td>\n      <td>NaN</td>\n      <td>NaN</td>\n      <td>NaN</td>\n      <td>NaN</td>\n    </tr>\n    <tr>\n      <th>2</th>\n      <td>AD</td>\n      <td>1991</td>\n      <td>NaN</td>\n      <td>NaN</td>\n      <td>NaN</td>\n      <td>NaN</td>\n      <td>NaN</td>\n      <td>NaN</td>\n      <td>NaN</td>\n      <td>NaN</td>\n      <td>...</td>\n      <td>NaN</td>\n      <td>NaN</td>\n      <td>NaN</td>\n      <td>NaN</td>\n      <td>NaN</td>\n      <td>NaN</td>\n      <td>NaN</td>\n      <td>NaN</td>\n      <td>NaN</td>\n      <td>NaN</td>\n    </tr>\n    <tr>\n      <th>3</th>\n      <td>AD</td>\n      <td>1992</td>\n      <td>NaN</td>\n      <td>NaN</td>\n      <td>NaN</td>\n      <td>NaN</td>\n      <td>NaN</td>\n      <td>NaN</td>\n      <td>NaN</td>\n      <td>NaN</td>\n      <td>...</td>\n      <td>NaN</td>\n      <td>NaN</td>\n      <td>NaN</td>\n      <td>NaN</td>\n      <td>NaN</td>\n      <td>NaN</td>\n      <td>NaN</td>\n      <td>NaN</td>\n      <td>NaN</td>\n      <td>NaN</td>\n    </tr>\n    <tr>\n      <th>4</th>\n      <td>AD</td>\n      <td>1993</td>\n      <td>15.0</td>\n      <td>NaN</td>\n      <td>NaN</td>\n      <td>NaN</td>\n      <td>NaN</td>\n      <td>NaN</td>\n      <td>NaN</td>\n      <td>NaN</td>\n      <td>...</td>\n      <td>NaN</td>\n      <td>NaN</td>\n      <td>NaN</td>\n      <td>NaN</td>\n      <td>NaN</td>\n      <td>NaN</td>\n      <td>NaN</td>\n      <td>NaN</td>\n      <td>NaN</td>\n      <td>NaN</td>\n    </tr>\n    <tr>\n      <th>...</th>\n      <td>...</td>\n      <td>...</td>\n      <td>...</td>\n      <td>...</td>\n      <td>...</td>\n      <td>...</td>\n      <td>...</td>\n      <td>...</td>\n      <td>...</td>\n      <td>...</td>\n      <td>...</td>\n      <td>...</td>\n      <td>...</td>\n      <td>...</td>\n      <td>...</td>\n      <td>...</td>\n      <td>...</td>\n      <td>...</td>\n      <td>...</td>\n      <td>...</td>\n      <td>...</td>\n    </tr>\n    <tr>\n      <th>5764</th>\n      <td>ZW</td>\n      <td>2004</td>\n      <td>14581.0</td>\n      <td>NaN</td>\n      <td>NaN</td>\n      <td>187.0</td>\n      <td>833.0</td>\n      <td>2908.0</td>\n      <td>2298.0</td>\n      <td>1056.0</td>\n      <td>...</td>\n      <td>NaN</td>\n      <td>NaN</td>\n      <td>225.0</td>\n      <td>1140.0</td>\n      <td>2858.0</td>\n      <td>1565.0</td>\n      <td>622.0</td>\n      <td>214.0</td>\n      <td>111.0</td>\n      <td>NaN</td>\n    </tr>\n    <tr>\n      <th>5765</th>\n      <td>ZW</td>\n      <td>2005</td>\n      <td>13155.0</td>\n      <td>NaN</td>\n      <td>NaN</td>\n      <td>210.0</td>\n      <td>837.0</td>\n      <td>2264.0</td>\n      <td>1855.0</td>\n      <td>762.0</td>\n      <td>...</td>\n      <td>NaN</td>\n      <td>NaN</td>\n      <td>269.0</td>\n      <td>1136.0</td>\n      <td>2242.0</td>\n      <td>1255.0</td>\n      <td>578.0</td>\n      <td>193.0</td>\n      <td>603.0</td>\n      <td>NaN</td>\n    </tr>\n    <tr>\n      <th>5766</th>\n      <td>ZW</td>\n      <td>2006</td>\n      <td>12718.0</td>\n      <td>NaN</td>\n      <td>NaN</td>\n      <td>215.0</td>\n      <td>736.0</td>\n      <td>2391.0</td>\n      <td>1939.0</td>\n      <td>896.0</td>\n      <td>...</td>\n      <td>NaN</td>\n      <td>NaN</td>\n      <td>237.0</td>\n      <td>1020.0</td>\n      <td>2424.0</td>\n      <td>1355.0</td>\n      <td>632.0</td>\n      <td>230.0</td>\n      <td>96.0</td>\n      <td>NaN</td>\n    </tr>\n    <tr>\n      <th>5767</th>\n      <td>ZW</td>\n      <td>2007</td>\n      <td>10583.0</td>\n      <td>6.0</td>\n      <td>132.0</td>\n      <td>138.0</td>\n      <td>500.0</td>\n      <td>3693.0</td>\n      <td>0.0</td>\n      <td>716.0</td>\n      <td>...</td>\n      <td>7.0</td>\n      <td>178.0</td>\n      <td>185.0</td>\n      <td>739.0</td>\n      <td>3311.0</td>\n      <td>0.0</td>\n      <td>553.0</td>\n      <td>213.0</td>\n      <td>90.0</td>\n      <td>NaN</td>\n    </tr>\n    <tr>\n      <th>5768</th>\n      <td>ZW</td>\n      <td>2008</td>\n      <td>9830.0</td>\n      <td>NaN</td>\n      <td>NaN</td>\n      <td>127.0</td>\n      <td>614.0</td>\n      <td>0.0</td>\n      <td>3316.0</td>\n      <td>704.0</td>\n      <td>...</td>\n      <td>NaN</td>\n      <td>NaN</td>\n      <td>145.0</td>\n      <td>840.0</td>\n      <td>0.0</td>\n      <td>2890.0</td>\n      <td>467.0</td>\n      <td>174.0</td>\n      <td>105.0</td>\n      <td>0.0</td>\n    </tr>\n  </tbody>\n</table>\n<p>5769 rows × 23 columns</p>\n</div>"
     },
     "execution_count": 4,
     "metadata": {},
     "output_type": "execute_result"
    }
   ],
   "source": [
    "df"
   ],
   "metadata": {
    "collapsed": false
   }
  },
  {
   "cell_type": "code",
   "execution_count": 5,
   "outputs": [
    {
     "name": "stdout",
     "output_type": "stream",
     "text": [
      "<class 'pandas.core.frame.DataFrame'>\n",
      "RangeIndex: 5769 entries, 0 to 5768\n",
      "Data columns (total 23 columns):\n",
      " #   Column        Non-Null Count  Dtype  \n",
      "---  ------        --------------  -----  \n",
      " 0   iso2          5746 non-null   object \n",
      " 1   year          5769 non-null   int64  \n",
      " 2   new_sp        3081 non-null   float64\n",
      " 3   new_sp_m04    392 non-null    float64\n",
      " 4   new_sp_m514   401 non-null    float64\n",
      " 5   new_sp_m014   2381 non-null   float64\n",
      " 6   new_sp_m1524  2407 non-null   float64\n",
      " 7   new_sp_m2534  2408 non-null   float64\n",
      " 8   new_sp_m3544  2415 non-null   float64\n",
      " 9   new_sp_m4554  2421 non-null   float64\n",
      " 10  new_sp_m5564  2414 non-null   float64\n",
      " 11  new_sp_m65    2408 non-null   float64\n",
      " 12  new_sp_mu     273 non-null    float64\n",
      " 13  new_sp_f04    393 non-null    float64\n",
      " 14  new_sp_f514   404 non-null    float64\n",
      " 15  new_sp_f014   2378 non-null   float64\n",
      " 16  new_sp_f1524  2394 non-null   float64\n",
      " 17  new_sp_f2534  2400 non-null   float64\n",
      " 18  new_sp_f3544  2398 non-null   float64\n",
      " 19  new_sp_f4554  2401 non-null   float64\n",
      " 20  new_sp_f5564  2394 non-null   float64\n",
      " 21  new_sp_f65    2396 non-null   float64\n",
      " 22  new_sp_fu     272 non-null    float64\n",
      "dtypes: float64(21), int64(1), object(1)\n",
      "memory usage: 1.0+ MB\n"
     ]
    }
   ],
   "source": [
    "df.info()"
   ],
   "metadata": {
    "collapsed": false
   }
  },
  {
   "cell_type": "code",
   "execution_count": 6,
   "outputs": [
    {
     "data": {
      "text/plain": "              year         new_sp  new_sp_m04  new_sp_m514  new_sp_m014  \\\ncount  5769.000000    3081.000000  392.000000   401.000000  2381.000000   \nmean   1994.229329    9089.718922    8.806122    28.975062    79.438051   \nstd       8.423265   38612.097933   46.094789   127.881505   280.489536   \nmin    1980.000000       0.000000    0.000000     0.000000     0.000000   \n25%    1987.000000      97.000000    0.000000     0.000000     0.000000   \n50%    1994.000000    1017.000000    0.000000     1.000000     6.000000   \n75%    2002.000000    4985.000000    2.000000     8.000000    36.000000   \nmax    2008.000000  615977.000000  655.000000  1519.000000  4648.000000   \n\n       new_sp_m1524  new_sp_m2534  new_sp_m3544  new_sp_m4554  new_sp_m5564  \\\ncount   2407.000000   2408.000000   2415.000000   2421.000000   2414.000000   \nmean     922.364769   1301.894518   1205.566046    983.515489    696.171914   \nstd     4278.638975   5253.398971   5409.064589   4780.782748   3771.934518   \nmin        0.000000      0.000000      0.000000      0.000000      0.000000   \n25%       10.000000     15.000000     16.000000     13.000000      9.000000   \n50%       92.000000    151.500000    134.000000     98.000000     62.000000   \n75%      511.500000    728.000000    591.500000    434.000000    273.750000   \nmax    77121.000000  83850.000000  90498.000000  78815.000000  57492.000000   \n\n       ...  new_sp_f04  new_sp_f514  new_sp_f014  new_sp_f1524  new_sp_f2534  \\\ncount  ...  393.000000   404.000000  2378.000000   2394.000000   2400.000000   \nmean   ...    6.417303    39.185644   106.341043    758.737260    856.087500   \nstd    ...   39.630100   170.491532   435.889885   3153.018686   3295.220001   \nmin    ...    0.000000     0.000000     0.000000      0.000000      0.000000   \n25%    ...    0.000000     0.000000     1.000000      8.000000     10.000000   \n50%    ...    0.000000     2.000000     7.000000     68.000000     86.000000   \n75%    ...    1.000000    13.250000    50.000000    427.000000    477.500000   \nmax    ...  620.000000  2062.000000  8319.000000  51485.000000  49887.000000   \n\n       new_sp_f3544  new_sp_f4554  new_sp_f5564    new_sp_f65   new_sp_fu  \ncount   2398.000000   2401.000000   2394.000000   2396.000000  272.000000  \nmean     586.597998    400.376510    276.178363    255.307596    2.540441  \nstd     2293.956123   1589.955543   1191.728829   1138.763846   38.261653  \nmin        0.000000      0.000000      0.000000      0.000000    0.000000  \n25%        7.000000      5.000000      4.000000      5.000000    0.000000  \n50%       59.000000     38.000000     25.000000     29.000000    0.000000  \n75%      309.000000    216.000000    144.750000    124.000000    0.000000  \nmax    33664.000000  21486.000000  18203.000000  21339.000000  631.000000  \n\n[8 rows x 22 columns]",
      "text/html": "<div>\n<style scoped>\n    .dataframe tbody tr th:only-of-type {\n        vertical-align: middle;\n    }\n\n    .dataframe tbody tr th {\n        vertical-align: top;\n    }\n\n    .dataframe thead th {\n        text-align: right;\n    }\n</style>\n<table border=\"1\" class=\"dataframe\">\n  <thead>\n    <tr style=\"text-align: right;\">\n      <th></th>\n      <th>year</th>\n      <th>new_sp</th>\n      <th>new_sp_m04</th>\n      <th>new_sp_m514</th>\n      <th>new_sp_m014</th>\n      <th>new_sp_m1524</th>\n      <th>new_sp_m2534</th>\n      <th>new_sp_m3544</th>\n      <th>new_sp_m4554</th>\n      <th>new_sp_m5564</th>\n      <th>...</th>\n      <th>new_sp_f04</th>\n      <th>new_sp_f514</th>\n      <th>new_sp_f014</th>\n      <th>new_sp_f1524</th>\n      <th>new_sp_f2534</th>\n      <th>new_sp_f3544</th>\n      <th>new_sp_f4554</th>\n      <th>new_sp_f5564</th>\n      <th>new_sp_f65</th>\n      <th>new_sp_fu</th>\n    </tr>\n  </thead>\n  <tbody>\n    <tr>\n      <th>count</th>\n      <td>5769.000000</td>\n      <td>3081.000000</td>\n      <td>392.000000</td>\n      <td>401.000000</td>\n      <td>2381.000000</td>\n      <td>2407.000000</td>\n      <td>2408.000000</td>\n      <td>2415.000000</td>\n      <td>2421.000000</td>\n      <td>2414.000000</td>\n      <td>...</td>\n      <td>393.000000</td>\n      <td>404.000000</td>\n      <td>2378.000000</td>\n      <td>2394.000000</td>\n      <td>2400.000000</td>\n      <td>2398.000000</td>\n      <td>2401.000000</td>\n      <td>2394.000000</td>\n      <td>2396.000000</td>\n      <td>272.000000</td>\n    </tr>\n    <tr>\n      <th>mean</th>\n      <td>1994.229329</td>\n      <td>9089.718922</td>\n      <td>8.806122</td>\n      <td>28.975062</td>\n      <td>79.438051</td>\n      <td>922.364769</td>\n      <td>1301.894518</td>\n      <td>1205.566046</td>\n      <td>983.515489</td>\n      <td>696.171914</td>\n      <td>...</td>\n      <td>6.417303</td>\n      <td>39.185644</td>\n      <td>106.341043</td>\n      <td>758.737260</td>\n      <td>856.087500</td>\n      <td>586.597998</td>\n      <td>400.376510</td>\n      <td>276.178363</td>\n      <td>255.307596</td>\n      <td>2.540441</td>\n    </tr>\n    <tr>\n      <th>std</th>\n      <td>8.423265</td>\n      <td>38612.097933</td>\n      <td>46.094789</td>\n      <td>127.881505</td>\n      <td>280.489536</td>\n      <td>4278.638975</td>\n      <td>5253.398971</td>\n      <td>5409.064589</td>\n      <td>4780.782748</td>\n      <td>3771.934518</td>\n      <td>...</td>\n      <td>39.630100</td>\n      <td>170.491532</td>\n      <td>435.889885</td>\n      <td>3153.018686</td>\n      <td>3295.220001</td>\n      <td>2293.956123</td>\n      <td>1589.955543</td>\n      <td>1191.728829</td>\n      <td>1138.763846</td>\n      <td>38.261653</td>\n    </tr>\n    <tr>\n      <th>min</th>\n      <td>1980.000000</td>\n      <td>0.000000</td>\n      <td>0.000000</td>\n      <td>0.000000</td>\n      <td>0.000000</td>\n      <td>0.000000</td>\n      <td>0.000000</td>\n      <td>0.000000</td>\n      <td>0.000000</td>\n      <td>0.000000</td>\n      <td>...</td>\n      <td>0.000000</td>\n      <td>0.000000</td>\n      <td>0.000000</td>\n      <td>0.000000</td>\n      <td>0.000000</td>\n      <td>0.000000</td>\n      <td>0.000000</td>\n      <td>0.000000</td>\n      <td>0.000000</td>\n      <td>0.000000</td>\n    </tr>\n    <tr>\n      <th>25%</th>\n      <td>1987.000000</td>\n      <td>97.000000</td>\n      <td>0.000000</td>\n      <td>0.000000</td>\n      <td>0.000000</td>\n      <td>10.000000</td>\n      <td>15.000000</td>\n      <td>16.000000</td>\n      <td>13.000000</td>\n      <td>9.000000</td>\n      <td>...</td>\n      <td>0.000000</td>\n      <td>0.000000</td>\n      <td>1.000000</td>\n      <td>8.000000</td>\n      <td>10.000000</td>\n      <td>7.000000</td>\n      <td>5.000000</td>\n      <td>4.000000</td>\n      <td>5.000000</td>\n      <td>0.000000</td>\n    </tr>\n    <tr>\n      <th>50%</th>\n      <td>1994.000000</td>\n      <td>1017.000000</td>\n      <td>0.000000</td>\n      <td>1.000000</td>\n      <td>6.000000</td>\n      <td>92.000000</td>\n      <td>151.500000</td>\n      <td>134.000000</td>\n      <td>98.000000</td>\n      <td>62.000000</td>\n      <td>...</td>\n      <td>0.000000</td>\n      <td>2.000000</td>\n      <td>7.000000</td>\n      <td>68.000000</td>\n      <td>86.000000</td>\n      <td>59.000000</td>\n      <td>38.000000</td>\n      <td>25.000000</td>\n      <td>29.000000</td>\n      <td>0.000000</td>\n    </tr>\n    <tr>\n      <th>75%</th>\n      <td>2002.000000</td>\n      <td>4985.000000</td>\n      <td>2.000000</td>\n      <td>8.000000</td>\n      <td>36.000000</td>\n      <td>511.500000</td>\n      <td>728.000000</td>\n      <td>591.500000</td>\n      <td>434.000000</td>\n      <td>273.750000</td>\n      <td>...</td>\n      <td>1.000000</td>\n      <td>13.250000</td>\n      <td>50.000000</td>\n      <td>427.000000</td>\n      <td>477.500000</td>\n      <td>309.000000</td>\n      <td>216.000000</td>\n      <td>144.750000</td>\n      <td>124.000000</td>\n      <td>0.000000</td>\n    </tr>\n    <tr>\n      <th>max</th>\n      <td>2008.000000</td>\n      <td>615977.000000</td>\n      <td>655.000000</td>\n      <td>1519.000000</td>\n      <td>4648.000000</td>\n      <td>77121.000000</td>\n      <td>83850.000000</td>\n      <td>90498.000000</td>\n      <td>78815.000000</td>\n      <td>57492.000000</td>\n      <td>...</td>\n      <td>620.000000</td>\n      <td>2062.000000</td>\n      <td>8319.000000</td>\n      <td>51485.000000</td>\n      <td>49887.000000</td>\n      <td>33664.000000</td>\n      <td>21486.000000</td>\n      <td>18203.000000</td>\n      <td>21339.000000</td>\n      <td>631.000000</td>\n    </tr>\n  </tbody>\n</table>\n<p>8 rows × 22 columns</p>\n</div>"
     },
     "execution_count": 6,
     "metadata": {},
     "output_type": "execute_result"
    }
   ],
   "source": [
    "df.describe()"
   ],
   "metadata": {
    "collapsed": false
   }
  },
  {
   "cell_type": "code",
   "execution_count": 44,
   "outputs": [
    {
     "data": {
      "text/plain": "count     5746\nunique     212\ntop         ZW\nfreq        29\nName: iso2, dtype: object"
     },
     "execution_count": 44,
     "metadata": {},
     "output_type": "execute_result"
    }
   ],
   "source": [
    "df.loc[:, 'iso2'].describe()"
   ],
   "metadata": {
    "collapsed": false
   }
  },
  {
   "cell_type": "code",
   "execution_count": 56,
   "outputs": [
    {
     "data": {
      "text/plain": "count    5769.000000\nmean     1994.229329\nstd         8.423265\nmin      1980.000000\n25%      1987.000000\n50%      1994.000000\n75%      2002.000000\nmax      2008.000000\nName: year, dtype: float64"
     },
     "execution_count": 56,
     "metadata": {},
     "output_type": "execute_result"
    }
   ],
   "source": [
    "df.loc[:, 'year'].describe()"
   ],
   "metadata": {
    "collapsed": false
   }
  }
 ],
 "metadata": {
  "kernelspec": {
   "display_name": "Python 3",
   "language": "python",
   "name": "python3"
  },
  "language_info": {
   "codemirror_mode": {
    "name": "ipython",
    "version": 2
   },
   "file_extension": ".py",
   "mimetype": "text/x-python",
   "name": "python",
   "nbconvert_exporter": "python",
   "pygments_lexer": "ipython2",
   "version": "2.7.6"
  }
 },
 "nbformat": 4,
 "nbformat_minor": 0
}
