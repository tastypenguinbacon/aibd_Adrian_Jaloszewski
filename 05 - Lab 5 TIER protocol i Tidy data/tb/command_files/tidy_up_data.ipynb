{
 "cells": [
  {
   "cell_type": "code",
   "execution_count": 1,
   "metadata": {
    "collapsed": true
   },
   "outputs": [],
   "source": [
    "import pandas as pd"
   ]
  },
  {
   "cell_type": "code",
   "execution_count": 2,
   "outputs": [
    {
     "data": {
      "text/plain": "  iso2  year  new_sp  new_sp_m04  new_sp_m514  new_sp_m014  new_sp_m1524  \\\n0   AD  1989     NaN         NaN          NaN          NaN           NaN   \n1   AD  1990     NaN         NaN          NaN          NaN           NaN   \n2   AD  1991     NaN         NaN          NaN          NaN           NaN   \n3   AD  1992     NaN         NaN          NaN          NaN           NaN   \n4   AD  1993    15.0         NaN          NaN          NaN           NaN   \n\n   new_sp_m2534  new_sp_m3544  new_sp_m4554  ...  new_sp_f04  new_sp_f514  \\\n0           NaN           NaN           NaN  ...         NaN          NaN   \n1           NaN           NaN           NaN  ...         NaN          NaN   \n2           NaN           NaN           NaN  ...         NaN          NaN   \n3           NaN           NaN           NaN  ...         NaN          NaN   \n4           NaN           NaN           NaN  ...         NaN          NaN   \n\n   new_sp_f014  new_sp_f1524  new_sp_f2534  new_sp_f3544  new_sp_f4554  \\\n0          NaN           NaN           NaN           NaN           NaN   \n1          NaN           NaN           NaN           NaN           NaN   \n2          NaN           NaN           NaN           NaN           NaN   \n3          NaN           NaN           NaN           NaN           NaN   \n4          NaN           NaN           NaN           NaN           NaN   \n\n   new_sp_f5564  new_sp_f65  new_sp_fu  \n0           NaN         NaN        NaN  \n1           NaN         NaN        NaN  \n2           NaN         NaN        NaN  \n3           NaN         NaN        NaN  \n4           NaN         NaN        NaN  \n\n[5 rows x 23 columns]",
      "text/html": "<div>\n<style scoped>\n    .dataframe tbody tr th:only-of-type {\n        vertical-align: middle;\n    }\n\n    .dataframe tbody tr th {\n        vertical-align: top;\n    }\n\n    .dataframe thead th {\n        text-align: right;\n    }\n</style>\n<table border=\"1\" class=\"dataframe\">\n  <thead>\n    <tr style=\"text-align: right;\">\n      <th></th>\n      <th>iso2</th>\n      <th>year</th>\n      <th>new_sp</th>\n      <th>new_sp_m04</th>\n      <th>new_sp_m514</th>\n      <th>new_sp_m014</th>\n      <th>new_sp_m1524</th>\n      <th>new_sp_m2534</th>\n      <th>new_sp_m3544</th>\n      <th>new_sp_m4554</th>\n      <th>...</th>\n      <th>new_sp_f04</th>\n      <th>new_sp_f514</th>\n      <th>new_sp_f014</th>\n      <th>new_sp_f1524</th>\n      <th>new_sp_f2534</th>\n      <th>new_sp_f3544</th>\n      <th>new_sp_f4554</th>\n      <th>new_sp_f5564</th>\n      <th>new_sp_f65</th>\n      <th>new_sp_fu</th>\n    </tr>\n  </thead>\n  <tbody>\n    <tr>\n      <th>0</th>\n      <td>AD</td>\n      <td>1989</td>\n      <td>NaN</td>\n      <td>NaN</td>\n      <td>NaN</td>\n      <td>NaN</td>\n      <td>NaN</td>\n      <td>NaN</td>\n      <td>NaN</td>\n      <td>NaN</td>\n      <td>...</td>\n      <td>NaN</td>\n      <td>NaN</td>\n      <td>NaN</td>\n      <td>NaN</td>\n      <td>NaN</td>\n      <td>NaN</td>\n      <td>NaN</td>\n      <td>NaN</td>\n      <td>NaN</td>\n      <td>NaN</td>\n    </tr>\n    <tr>\n      <th>1</th>\n      <td>AD</td>\n      <td>1990</td>\n      <td>NaN</td>\n      <td>NaN</td>\n      <td>NaN</td>\n      <td>NaN</td>\n      <td>NaN</td>\n      <td>NaN</td>\n      <td>NaN</td>\n      <td>NaN</td>\n      <td>...</td>\n      <td>NaN</td>\n      <td>NaN</td>\n      <td>NaN</td>\n      <td>NaN</td>\n      <td>NaN</td>\n      <td>NaN</td>\n      <td>NaN</td>\n      <td>NaN</td>\n      <td>NaN</td>\n      <td>NaN</td>\n    </tr>\n    <tr>\n      <th>2</th>\n      <td>AD</td>\n      <td>1991</td>\n      <td>NaN</td>\n      <td>NaN</td>\n      <td>NaN</td>\n      <td>NaN</td>\n      <td>NaN</td>\n      <td>NaN</td>\n      <td>NaN</td>\n      <td>NaN</td>\n      <td>...</td>\n      <td>NaN</td>\n      <td>NaN</td>\n      <td>NaN</td>\n      <td>NaN</td>\n      <td>NaN</td>\n      <td>NaN</td>\n      <td>NaN</td>\n      <td>NaN</td>\n      <td>NaN</td>\n      <td>NaN</td>\n    </tr>\n    <tr>\n      <th>3</th>\n      <td>AD</td>\n      <td>1992</td>\n      <td>NaN</td>\n      <td>NaN</td>\n      <td>NaN</td>\n      <td>NaN</td>\n      <td>NaN</td>\n      <td>NaN</td>\n      <td>NaN</td>\n      <td>NaN</td>\n      <td>...</td>\n      <td>NaN</td>\n      <td>NaN</td>\n      <td>NaN</td>\n      <td>NaN</td>\n      <td>NaN</td>\n      <td>NaN</td>\n      <td>NaN</td>\n      <td>NaN</td>\n      <td>NaN</td>\n      <td>NaN</td>\n    </tr>\n    <tr>\n      <th>4</th>\n      <td>AD</td>\n      <td>1993</td>\n      <td>15.0</td>\n      <td>NaN</td>\n      <td>NaN</td>\n      <td>NaN</td>\n      <td>NaN</td>\n      <td>NaN</td>\n      <td>NaN</td>\n      <td>NaN</td>\n      <td>...</td>\n      <td>NaN</td>\n      <td>NaN</td>\n      <td>NaN</td>\n      <td>NaN</td>\n      <td>NaN</td>\n      <td>NaN</td>\n      <td>NaN</td>\n      <td>NaN</td>\n      <td>NaN</td>\n      <td>NaN</td>\n    </tr>\n  </tbody>\n</table>\n<p>5 rows × 23 columns</p>\n</div>"
     },
     "execution_count": 2,
     "metadata": {},
     "output_type": "execute_result"
    }
   ],
   "source": [
    "df = pd.read_csv('../original_data/tb.csv')\n",
    "df.head()"
   ],
   "metadata": {
    "collapsed": false
   }
  },
  {
   "cell_type": "code",
   "execution_count": 3,
   "outputs": [
    {
     "data": {
      "text/plain": "        iso2         year         new_sp  new_sp_m04  new_sp_m514  \\\ncount   5746  5769.000000    3081.000000  392.000000   401.000000   \nunique   212          NaN            NaN         NaN          NaN   \ntop       CO          NaN            NaN         NaN          NaN   \nfreq      29          NaN            NaN         NaN          NaN   \nmean     NaN  1994.229329    9089.718922    8.806122    28.975062   \nstd      NaN     8.423265   38612.097933   46.094789   127.881505   \nmin      NaN  1980.000000       0.000000    0.000000     0.000000   \n25%      NaN  1987.000000      97.000000    0.000000     0.000000   \n50%      NaN  1994.000000    1017.000000    0.000000     1.000000   \n75%      NaN  2002.000000    4985.000000    2.000000     8.000000   \nmax      NaN  2008.000000  615977.000000  655.000000  1519.000000   \n\n        new_sp_m014  new_sp_m1524  new_sp_m2534  new_sp_m3544  new_sp_m4554  \\\ncount   2381.000000   2407.000000   2408.000000   2415.000000   2421.000000   \nunique          NaN           NaN           NaN           NaN           NaN   \ntop             NaN           NaN           NaN           NaN           NaN   \nfreq            NaN           NaN           NaN           NaN           NaN   \nmean      79.438051    922.364769   1301.894518   1205.566046    983.515489   \nstd      280.489536   4278.638975   5253.398971   5409.064589   4780.782748   \nmin        0.000000      0.000000      0.000000      0.000000      0.000000   \n25%        0.000000     10.000000     15.000000     16.000000     13.000000   \n50%        6.000000     92.000000    151.500000    134.000000     98.000000   \n75%       36.000000    511.500000    728.000000    591.500000    434.000000   \nmax     4648.000000  77121.000000  83850.000000  90498.000000  78815.000000   \n\n        ...  new_sp_f04  new_sp_f514  new_sp_f014  new_sp_f1524  new_sp_f2534  \\\ncount   ...  393.000000   404.000000  2378.000000   2394.000000   2400.000000   \nunique  ...         NaN          NaN          NaN           NaN           NaN   \ntop     ...         NaN          NaN          NaN           NaN           NaN   \nfreq    ...         NaN          NaN          NaN           NaN           NaN   \nmean    ...    6.417303    39.185644   106.341043    758.737260    856.087500   \nstd     ...   39.630100   170.491532   435.889885   3153.018686   3295.220001   \nmin     ...    0.000000     0.000000     0.000000      0.000000      0.000000   \n25%     ...    0.000000     0.000000     1.000000      8.000000     10.000000   \n50%     ...    0.000000     2.000000     7.000000     68.000000     86.000000   \n75%     ...    1.000000    13.250000    50.000000    427.000000    477.500000   \nmax     ...  620.000000  2062.000000  8319.000000  51485.000000  49887.000000   \n\n        new_sp_f3544  new_sp_f4554  new_sp_f5564    new_sp_f65   new_sp_fu  \ncount    2398.000000   2401.000000   2394.000000   2396.000000  272.000000  \nunique           NaN           NaN           NaN           NaN         NaN  \ntop              NaN           NaN           NaN           NaN         NaN  \nfreq             NaN           NaN           NaN           NaN         NaN  \nmean      586.597998    400.376510    276.178363    255.307596    2.540441  \nstd      2293.956123   1589.955543   1191.728829   1138.763846   38.261653  \nmin         0.000000      0.000000      0.000000      0.000000    0.000000  \n25%         7.000000      5.000000      4.000000      5.000000    0.000000  \n50%        59.000000     38.000000     25.000000     29.000000    0.000000  \n75%       309.000000    216.000000    144.750000    124.000000    0.000000  \nmax     33664.000000  21486.000000  18203.000000  21339.000000  631.000000  \n\n[11 rows x 23 columns]",
      "text/html": "<div>\n<style scoped>\n    .dataframe tbody tr th:only-of-type {\n        vertical-align: middle;\n    }\n\n    .dataframe tbody tr th {\n        vertical-align: top;\n    }\n\n    .dataframe thead th {\n        text-align: right;\n    }\n</style>\n<table border=\"1\" class=\"dataframe\">\n  <thead>\n    <tr style=\"text-align: right;\">\n      <th></th>\n      <th>iso2</th>\n      <th>year</th>\n      <th>new_sp</th>\n      <th>new_sp_m04</th>\n      <th>new_sp_m514</th>\n      <th>new_sp_m014</th>\n      <th>new_sp_m1524</th>\n      <th>new_sp_m2534</th>\n      <th>new_sp_m3544</th>\n      <th>new_sp_m4554</th>\n      <th>...</th>\n      <th>new_sp_f04</th>\n      <th>new_sp_f514</th>\n      <th>new_sp_f014</th>\n      <th>new_sp_f1524</th>\n      <th>new_sp_f2534</th>\n      <th>new_sp_f3544</th>\n      <th>new_sp_f4554</th>\n      <th>new_sp_f5564</th>\n      <th>new_sp_f65</th>\n      <th>new_sp_fu</th>\n    </tr>\n  </thead>\n  <tbody>\n    <tr>\n      <th>count</th>\n      <td>5746</td>\n      <td>5769.000000</td>\n      <td>3081.000000</td>\n      <td>392.000000</td>\n      <td>401.000000</td>\n      <td>2381.000000</td>\n      <td>2407.000000</td>\n      <td>2408.000000</td>\n      <td>2415.000000</td>\n      <td>2421.000000</td>\n      <td>...</td>\n      <td>393.000000</td>\n      <td>404.000000</td>\n      <td>2378.000000</td>\n      <td>2394.000000</td>\n      <td>2400.000000</td>\n      <td>2398.000000</td>\n      <td>2401.000000</td>\n      <td>2394.000000</td>\n      <td>2396.000000</td>\n      <td>272.000000</td>\n    </tr>\n    <tr>\n      <th>unique</th>\n      <td>212</td>\n      <td>NaN</td>\n      <td>NaN</td>\n      <td>NaN</td>\n      <td>NaN</td>\n      <td>NaN</td>\n      <td>NaN</td>\n      <td>NaN</td>\n      <td>NaN</td>\n      <td>NaN</td>\n      <td>...</td>\n      <td>NaN</td>\n      <td>NaN</td>\n      <td>NaN</td>\n      <td>NaN</td>\n      <td>NaN</td>\n      <td>NaN</td>\n      <td>NaN</td>\n      <td>NaN</td>\n      <td>NaN</td>\n      <td>NaN</td>\n    </tr>\n    <tr>\n      <th>top</th>\n      <td>CO</td>\n      <td>NaN</td>\n      <td>NaN</td>\n      <td>NaN</td>\n      <td>NaN</td>\n      <td>NaN</td>\n      <td>NaN</td>\n      <td>NaN</td>\n      <td>NaN</td>\n      <td>NaN</td>\n      <td>...</td>\n      <td>NaN</td>\n      <td>NaN</td>\n      <td>NaN</td>\n      <td>NaN</td>\n      <td>NaN</td>\n      <td>NaN</td>\n      <td>NaN</td>\n      <td>NaN</td>\n      <td>NaN</td>\n      <td>NaN</td>\n    </tr>\n    <tr>\n      <th>freq</th>\n      <td>29</td>\n      <td>NaN</td>\n      <td>NaN</td>\n      <td>NaN</td>\n      <td>NaN</td>\n      <td>NaN</td>\n      <td>NaN</td>\n      <td>NaN</td>\n      <td>NaN</td>\n      <td>NaN</td>\n      <td>...</td>\n      <td>NaN</td>\n      <td>NaN</td>\n      <td>NaN</td>\n      <td>NaN</td>\n      <td>NaN</td>\n      <td>NaN</td>\n      <td>NaN</td>\n      <td>NaN</td>\n      <td>NaN</td>\n      <td>NaN</td>\n    </tr>\n    <tr>\n      <th>mean</th>\n      <td>NaN</td>\n      <td>1994.229329</td>\n      <td>9089.718922</td>\n      <td>8.806122</td>\n      <td>28.975062</td>\n      <td>79.438051</td>\n      <td>922.364769</td>\n      <td>1301.894518</td>\n      <td>1205.566046</td>\n      <td>983.515489</td>\n      <td>...</td>\n      <td>6.417303</td>\n      <td>39.185644</td>\n      <td>106.341043</td>\n      <td>758.737260</td>\n      <td>856.087500</td>\n      <td>586.597998</td>\n      <td>400.376510</td>\n      <td>276.178363</td>\n      <td>255.307596</td>\n      <td>2.540441</td>\n    </tr>\n    <tr>\n      <th>std</th>\n      <td>NaN</td>\n      <td>8.423265</td>\n      <td>38612.097933</td>\n      <td>46.094789</td>\n      <td>127.881505</td>\n      <td>280.489536</td>\n      <td>4278.638975</td>\n      <td>5253.398971</td>\n      <td>5409.064589</td>\n      <td>4780.782748</td>\n      <td>...</td>\n      <td>39.630100</td>\n      <td>170.491532</td>\n      <td>435.889885</td>\n      <td>3153.018686</td>\n      <td>3295.220001</td>\n      <td>2293.956123</td>\n      <td>1589.955543</td>\n      <td>1191.728829</td>\n      <td>1138.763846</td>\n      <td>38.261653</td>\n    </tr>\n    <tr>\n      <th>min</th>\n      <td>NaN</td>\n      <td>1980.000000</td>\n      <td>0.000000</td>\n      <td>0.000000</td>\n      <td>0.000000</td>\n      <td>0.000000</td>\n      <td>0.000000</td>\n      <td>0.000000</td>\n      <td>0.000000</td>\n      <td>0.000000</td>\n      <td>...</td>\n      <td>0.000000</td>\n      <td>0.000000</td>\n      <td>0.000000</td>\n      <td>0.000000</td>\n      <td>0.000000</td>\n      <td>0.000000</td>\n      <td>0.000000</td>\n      <td>0.000000</td>\n      <td>0.000000</td>\n      <td>0.000000</td>\n    </tr>\n    <tr>\n      <th>25%</th>\n      <td>NaN</td>\n      <td>1987.000000</td>\n      <td>97.000000</td>\n      <td>0.000000</td>\n      <td>0.000000</td>\n      <td>0.000000</td>\n      <td>10.000000</td>\n      <td>15.000000</td>\n      <td>16.000000</td>\n      <td>13.000000</td>\n      <td>...</td>\n      <td>0.000000</td>\n      <td>0.000000</td>\n      <td>1.000000</td>\n      <td>8.000000</td>\n      <td>10.000000</td>\n      <td>7.000000</td>\n      <td>5.000000</td>\n      <td>4.000000</td>\n      <td>5.000000</td>\n      <td>0.000000</td>\n    </tr>\n    <tr>\n      <th>50%</th>\n      <td>NaN</td>\n      <td>1994.000000</td>\n      <td>1017.000000</td>\n      <td>0.000000</td>\n      <td>1.000000</td>\n      <td>6.000000</td>\n      <td>92.000000</td>\n      <td>151.500000</td>\n      <td>134.000000</td>\n      <td>98.000000</td>\n      <td>...</td>\n      <td>0.000000</td>\n      <td>2.000000</td>\n      <td>7.000000</td>\n      <td>68.000000</td>\n      <td>86.000000</td>\n      <td>59.000000</td>\n      <td>38.000000</td>\n      <td>25.000000</td>\n      <td>29.000000</td>\n      <td>0.000000</td>\n    </tr>\n    <tr>\n      <th>75%</th>\n      <td>NaN</td>\n      <td>2002.000000</td>\n      <td>4985.000000</td>\n      <td>2.000000</td>\n      <td>8.000000</td>\n      <td>36.000000</td>\n      <td>511.500000</td>\n      <td>728.000000</td>\n      <td>591.500000</td>\n      <td>434.000000</td>\n      <td>...</td>\n      <td>1.000000</td>\n      <td>13.250000</td>\n      <td>50.000000</td>\n      <td>427.000000</td>\n      <td>477.500000</td>\n      <td>309.000000</td>\n      <td>216.000000</td>\n      <td>144.750000</td>\n      <td>124.000000</td>\n      <td>0.000000</td>\n    </tr>\n    <tr>\n      <th>max</th>\n      <td>NaN</td>\n      <td>2008.000000</td>\n      <td>615977.000000</td>\n      <td>655.000000</td>\n      <td>1519.000000</td>\n      <td>4648.000000</td>\n      <td>77121.000000</td>\n      <td>83850.000000</td>\n      <td>90498.000000</td>\n      <td>78815.000000</td>\n      <td>...</td>\n      <td>620.000000</td>\n      <td>2062.000000</td>\n      <td>8319.000000</td>\n      <td>51485.000000</td>\n      <td>49887.000000</td>\n      <td>33664.000000</td>\n      <td>21486.000000</td>\n      <td>18203.000000</td>\n      <td>21339.000000</td>\n      <td>631.000000</td>\n    </tr>\n  </tbody>\n</table>\n<p>11 rows × 23 columns</p>\n</div>"
     },
     "execution_count": 3,
     "metadata": {},
     "output_type": "execute_result"
    }
   ],
   "source": [
    "df.describe(include='all')"
   ],
   "metadata": {
    "collapsed": false
   }
  },
  {
   "cell_type": "code",
   "execution_count": 4,
   "outputs": [],
   "source": [
    "testresult_sex_agemin_agemax = {\n",
    "    'new_sp': ('sp', None, None, None),\n",
    "    'new_sp_m04': ('sp', 'm', 0, 4),\n",
    "    'new_sp_m514': ('sp', 'm', 5, 14),\n",
    "    'new_sp_m014': ('sp', 'm', 0, 14),\n",
    "    'new_sp_m1524': ('sp', 'm', 15, 24),\n",
    "    'new_sp_m2534': ('sp', 'm', 25, 34),\n",
    "    'new_sp_m3544': ('sp', 'm', 35, 44),\n",
    "    'new_sp_m4554': ('sp', 'm', 45, 54),\n",
    "    'new_sp_m5564': ('sp', 'm', 55, 64),\n",
    "    'new_sp_m65': ('sp', 'm', 65, None),\n",
    "    'new_sp_mu': ('sp', 'm', None, None),\n",
    "    'new_sp_f04': ('sp', 'f', 0, 4),\n",
    "    'new_sp_f514': ('sp', 'f', 5, 14),\n",
    "    'new_sp_f014': ('sp', 'f', 0, 14),\n",
    "    'new_sp_f1524': ('sp', 'f', 15, 24),\n",
    "    'new_sp_f2534': ('sp', 'f', 25, 34),\n",
    "    'new_sp_f3544': ('sp', 'f', 35, 44),\n",
    "    'new_sp_f4554': ('sp', 'f', 45, 54),\n",
    "    'new_sp_f5564': ('sp', 'f', 55, 64),\n",
    "    'new_sp_f65': ('sp', 'f', 65, None),\n",
    "    'new_sp_fu': ('sp', 'f', None, None)\n",
    "}\n",
    "\n",
    "test_result = {k: v[0] for k, v in testresult_sex_agemin_agemax.items()}\n",
    "sex = {k: v[1] for k, v in testresult_sex_agemin_agemax.items()}\n",
    "age_min = {k: v[2] for k, v in testresult_sex_agemin_agemax.items()}\n",
    "age_max = {k: v[3] for k, v in testresult_sex_agemin_agemax.items()}\n"
   ],
   "metadata": {
    "collapsed": false
   }
  },
  {
   "cell_type": "code",
   "execution_count": 5,
   "outputs": [
    {
     "data": {
      "text/plain": "         iso2          year test_result    sex       min_age       max_age  \\\ncount   38619  38619.000000       38619  35552  35009.000000  30233.000000   \nunique    212           NaN           1      2           NaN           NaN   \ntop        CA           NaN          sp      m           NaN           NaN   \nfreq      449           NaN       38619  17821           NaN           NaN   \nmean      NaN   2001.895958         NaN    NaN     32.896255     37.477326   \nstd       NaN      4.423605         NaN    NaN     21.646452     17.940694   \nmin       NaN   1980.000000         NaN    NaN      0.000000      4.000000   \n25%       NaN   1998.000000         NaN    NaN     15.000000     24.000000   \n50%       NaN   2002.000000         NaN    NaN     35.000000     34.000000   \n75%       NaN   2006.000000         NaN    NaN     55.000000     54.000000   \nmax       NaN   2008.000000         NaN    NaN     65.000000     64.000000   \n\n              new_cnt  \ncount    38619.000000  \nunique            NaN  \ntop               NaN  \nfreq              NaN  \nmean      1286.248712  \nstd      11581.386826  \nmin          0.000000  \n25%          5.000000  \n50%         44.000000  \n75%        315.000000  \nmax     615977.000000  ",
      "text/html": "<div>\n<style scoped>\n    .dataframe tbody tr th:only-of-type {\n        vertical-align: middle;\n    }\n\n    .dataframe tbody tr th {\n        vertical-align: top;\n    }\n\n    .dataframe thead th {\n        text-align: right;\n    }\n</style>\n<table border=\"1\" class=\"dataframe\">\n  <thead>\n    <tr style=\"text-align: right;\">\n      <th></th>\n      <th>iso2</th>\n      <th>year</th>\n      <th>test_result</th>\n      <th>sex</th>\n      <th>min_age</th>\n      <th>max_age</th>\n      <th>new_cnt</th>\n    </tr>\n  </thead>\n  <tbody>\n    <tr>\n      <th>count</th>\n      <td>38619</td>\n      <td>38619.000000</td>\n      <td>38619</td>\n      <td>35552</td>\n      <td>35009.000000</td>\n      <td>30233.000000</td>\n      <td>38619.000000</td>\n    </tr>\n    <tr>\n      <th>unique</th>\n      <td>212</td>\n      <td>NaN</td>\n      <td>1</td>\n      <td>2</td>\n      <td>NaN</td>\n      <td>NaN</td>\n      <td>NaN</td>\n    </tr>\n    <tr>\n      <th>top</th>\n      <td>CA</td>\n      <td>NaN</td>\n      <td>sp</td>\n      <td>m</td>\n      <td>NaN</td>\n      <td>NaN</td>\n      <td>NaN</td>\n    </tr>\n    <tr>\n      <th>freq</th>\n      <td>449</td>\n      <td>NaN</td>\n      <td>38619</td>\n      <td>17821</td>\n      <td>NaN</td>\n      <td>NaN</td>\n      <td>NaN</td>\n    </tr>\n    <tr>\n      <th>mean</th>\n      <td>NaN</td>\n      <td>2001.895958</td>\n      <td>NaN</td>\n      <td>NaN</td>\n      <td>32.896255</td>\n      <td>37.477326</td>\n      <td>1286.248712</td>\n    </tr>\n    <tr>\n      <th>std</th>\n      <td>NaN</td>\n      <td>4.423605</td>\n      <td>NaN</td>\n      <td>NaN</td>\n      <td>21.646452</td>\n      <td>17.940694</td>\n      <td>11581.386826</td>\n    </tr>\n    <tr>\n      <th>min</th>\n      <td>NaN</td>\n      <td>1980.000000</td>\n      <td>NaN</td>\n      <td>NaN</td>\n      <td>0.000000</td>\n      <td>4.000000</td>\n      <td>0.000000</td>\n    </tr>\n    <tr>\n      <th>25%</th>\n      <td>NaN</td>\n      <td>1998.000000</td>\n      <td>NaN</td>\n      <td>NaN</td>\n      <td>15.000000</td>\n      <td>24.000000</td>\n      <td>5.000000</td>\n    </tr>\n    <tr>\n      <th>50%</th>\n      <td>NaN</td>\n      <td>2002.000000</td>\n      <td>NaN</td>\n      <td>NaN</td>\n      <td>35.000000</td>\n      <td>34.000000</td>\n      <td>44.000000</td>\n    </tr>\n    <tr>\n      <th>75%</th>\n      <td>NaN</td>\n      <td>2006.000000</td>\n      <td>NaN</td>\n      <td>NaN</td>\n      <td>55.000000</td>\n      <td>54.000000</td>\n      <td>315.000000</td>\n    </tr>\n    <tr>\n      <th>max</th>\n      <td>NaN</td>\n      <td>2008.000000</td>\n      <td>NaN</td>\n      <td>NaN</td>\n      <td>65.000000</td>\n      <td>64.000000</td>\n      <td>615977.000000</td>\n    </tr>\n  </tbody>\n</table>\n</div>"
     },
     "execution_count": 5,
     "metadata": {},
     "output_type": "execute_result"
    }
   ],
   "source": [
    "# Zamiana kolumn na wiersze\n",
    "tidified = df.melt(id_vars=['iso2', 'year']).dropna()\n",
    "\n",
    "# Rozbicie kolumny zawierającej grupy na jej cztery składowe\n",
    "tidified['test_result'] = tidified['variable'].map(test_result).astype(pd.StringDtype())\n",
    "tidified['sex'] = tidified['variable'].map(sex).astype(pd.StringDtype())\n",
    "tidified['min_age'] = tidified['variable'].map(age_min).astype(pd.Int16Dtype())\n",
    "tidified['max_age'] = tidified['variable'].map(age_max).astype(pd.Int16Dtype())\n",
    "# Zmiana nazwy kolumny zawierającej liczbę testów i dopasowanie jej typu danych do liczb całkowitych\n",
    "tidified['new_cnt'] = tidified['value'].astype(pd.Int64Dtype())\n",
    "\n",
    "# Pozbycie się zbędnych kolumn wynikających z wykonania metody df.melt(...)\n",
    "tidified.drop('variable', axis=1, inplace=True)\n",
    "tidified.drop('value', axis=1, inplace=True)\n",
    "\n",
    "tidified.describe(include='all')"
   ],
   "metadata": {
    "collapsed": false
   }
  },
  {
   "cell_type": "code",
   "execution_count": 6,
   "outputs": [
    {
     "name": "stdout",
     "output_type": "stream",
     "text": [
      "<class 'pandas.core.frame.DataFrame'>\n",
      "Int64Index: 38619 entries, 4 to 121148\n",
      "Data columns (total 7 columns):\n",
      " #   Column       Non-Null Count  Dtype \n",
      "---  ------       --------------  ----- \n",
      " 0   iso2         38619 non-null  object\n",
      " 1   year         38619 non-null  int64 \n",
      " 2   test_result  38619 non-null  string\n",
      " 3   sex          35552 non-null  string\n",
      " 4   min_age      35009 non-null  Int16 \n",
      " 5   max_age      30233 non-null  Int16 \n",
      " 6   new_cnt      38619 non-null  Int64 \n",
      "dtypes: Int16(2), Int64(1), int64(1), object(1), string(2)\n",
      "memory usage: 2.0+ MB\n"
     ]
    }
   ],
   "source": [
    "# #   Column\n",
    "# ---  ------\n",
    "#  0   iso2        - kod iso2 kraju z którego pochodzą dane\n",
    "#  1   year        - rok z którego pochodzą dane\n",
    "#  2   test_result - wynik testu (sp - pozytywny)\n",
    "#  3   sex         - płeć\n",
    "#  4   min_age     - początek przedziału wiekowego\n",
    "#  5   max_age     - koniec przedziału wiekowego\n",
    "#  6   new_cnt     - liczba nowych przypadków\n",
    "tidified.info()"
   ],
   "metadata": {
    "collapsed": false
   }
  },
  {
   "cell_type": "code",
   "execution_count": 7,
   "outputs": [
    {
     "data": {
      "text/plain": "  iso2  year test_result   sex  min_age  max_age  new_cnt\n4   AD  1993          sp  <NA>     <NA>     <NA>       15\n5   AD  1994          sp  <NA>     <NA>     <NA>       24\n6   AD  1996          sp  <NA>     <NA>     <NA>        8\n7   AD  1997          sp  <NA>     <NA>     <NA>       17\n8   AD  1998          sp  <NA>     <NA>     <NA>        1",
      "text/html": "<div>\n<style scoped>\n    .dataframe tbody tr th:only-of-type {\n        vertical-align: middle;\n    }\n\n    .dataframe tbody tr th {\n        vertical-align: top;\n    }\n\n    .dataframe thead th {\n        text-align: right;\n    }\n</style>\n<table border=\"1\" class=\"dataframe\">\n  <thead>\n    <tr style=\"text-align: right;\">\n      <th></th>\n      <th>iso2</th>\n      <th>year</th>\n      <th>test_result</th>\n      <th>sex</th>\n      <th>min_age</th>\n      <th>max_age</th>\n      <th>new_cnt</th>\n    </tr>\n  </thead>\n  <tbody>\n    <tr>\n      <th>4</th>\n      <td>AD</td>\n      <td>1993</td>\n      <td>sp</td>\n      <td>&lt;NA&gt;</td>\n      <td>&lt;NA&gt;</td>\n      <td>&lt;NA&gt;</td>\n      <td>15</td>\n    </tr>\n    <tr>\n      <th>5</th>\n      <td>AD</td>\n      <td>1994</td>\n      <td>sp</td>\n      <td>&lt;NA&gt;</td>\n      <td>&lt;NA&gt;</td>\n      <td>&lt;NA&gt;</td>\n      <td>24</td>\n    </tr>\n    <tr>\n      <th>6</th>\n      <td>AD</td>\n      <td>1996</td>\n      <td>sp</td>\n      <td>&lt;NA&gt;</td>\n      <td>&lt;NA&gt;</td>\n      <td>&lt;NA&gt;</td>\n      <td>8</td>\n    </tr>\n    <tr>\n      <th>7</th>\n      <td>AD</td>\n      <td>1997</td>\n      <td>sp</td>\n      <td>&lt;NA&gt;</td>\n      <td>&lt;NA&gt;</td>\n      <td>&lt;NA&gt;</td>\n      <td>17</td>\n    </tr>\n    <tr>\n      <th>8</th>\n      <td>AD</td>\n      <td>1998</td>\n      <td>sp</td>\n      <td>&lt;NA&gt;</td>\n      <td>&lt;NA&gt;</td>\n      <td>&lt;NA&gt;</td>\n      <td>1</td>\n    </tr>\n  </tbody>\n</table>\n</div>"
     },
     "execution_count": 7,
     "metadata": {},
     "output_type": "execute_result"
    }
   ],
   "source": [
    "tidified.head()"
   ],
   "metadata": {
    "collapsed": false
   }
  },
  {
   "cell_type": "code",
   "execution_count": 8,
   "outputs": [],
   "source": [
    "# Wypisanie zawartości przekształconej tabeli do nowego pliku CSV\n",
    "tidified.to_csv('../analysis_data/tidy_tb.csv', index=False)"
   ],
   "metadata": {
    "collapsed": false
   }
  }
 ],
 "metadata": {
  "kernelspec": {
   "display_name": "Python 3",
   "language": "python",
   "name": "python3"
  },
  "language_info": {
   "codemirror_mode": {
    "name": "ipython",
    "version": 2
   },
   "file_extension": ".py",
   "mimetype": "text/x-python",
   "name": "python",
   "nbconvert_exporter": "python",
   "pygments_lexer": "ipython2",
   "version": "2.7.6"
  }
 },
 "nbformat": 4,
 "nbformat_minor": 0
}
